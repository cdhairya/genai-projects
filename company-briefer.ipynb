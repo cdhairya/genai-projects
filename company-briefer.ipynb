{
 "cells": [
  {
   "cell_type": "markdown",
   "id": "8e6f65ee",
   "metadata": {},
   "source": [
    "## Builds a brochure for any given website with important highlights of the company\n"
   ]
  },
  {
   "cell_type": "code",
   "execution_count": 6,
   "id": "cf20777e",
   "metadata": {},
   "outputs": [],
   "source": [
    "import requests\n",
    "from bs4 import BeautifulSoup"
   ]
  },
  {
   "cell_type": "code",
   "execution_count": 15,
   "id": "26cdd5de",
   "metadata": {},
   "outputs": [],
   "source": [
    "class Website:\n",
    "    def __init__(self, url):\n",
    "        self.url = url\n",
    "        response = requests.get(url)\n",
    "        self.body = response.content\n",
    "        soup = BeautifulSoup(self.body, 'html.parser')\n",
    "        self.title = soup.title.string if soup.title else \"No title found\"\n",
    "        if soup.body:\n",
    "            for irrelevant in soup.body(['script', 'style', 'img', 'input']):\n",
    "                irrelevant.decompose()\n",
    "            self.text = soup.body.getText(separator=\"\\n\", strip=True)\n",
    "        else:\n",
    "            self.text = \"\"\n",
    "        links = [link.get('href') for link in soup.find_all('a')]\n",
    "        self.links = [link for link in links if link]\n",
    "\n",
    "    def get_contents(self):\n",
    "        return f\"Website Title: {self.title}\\nWebpage Contents:\\n{self.text}\\n\\n\"\n"
   ]
  },
  {
   "cell_type": "code",
   "execution_count": 16,
   "id": "c28bf792",
   "metadata": {},
   "outputs": [],
   "source": [
    "link_system_prompt = \"You are provided with a list of links found on a webpage.\" \\\n",
    "\"You are able to decide which of the links will be most relevant to include in a briefer about the company,\" \\\n",
    "\"such as links to an About page, or a Company page, or Careers/jobs pages.\\nYou should respond in JSON as in this example:\"\n",
    "\n",
    "link_system_prompt += \"\"\"\n",
    "{\n",
    "    \"links\": [\n",
    "        {\"type\": \"about page\", \"url\": \"https://company-url/about\"},\n",
    "        {\"type\": \"careers page\", \"url\": \"https://company-full-url/jobs\"},\n",
    "    ]\n",
    "}\n",
    "\"\"\"\n"
   ]
  },
  {
   "cell_type": "code",
   "execution_count": 17,
   "id": "a106d2ac",
   "metadata": {},
   "outputs": [],
   "source": [
    "def get_links_user_prompt(website):\n",
    "    user_prompt = f\"Here is the list of links on the website {website.url} - please decide which of these are relevant web links for a company briefer, respond with the full https URL in JSON format.\\\n",
    "    Do not include Terms or privacy, service or email links.\"\n",
    "\n",
    "    user_prompt += f\"\\nLinks (some might be relevant links): \\n{website.links}\"\n",
    "    return user_prompt"
   ]
  },
  {
   "cell_type": "code",
   "execution_count": 19,
   "id": "e81581a3",
   "metadata": {},
   "outputs": [
    {
     "name": "stdout",
     "output_type": "stream",
     "text": [
      "Here is the list of links on the website https://huggingface.co - please decide which of these are relevant web links for a company briefer, respond with the full https URL in JSON format.    Do not include Terms or privacy, service or email links.\n",
      "Links (some might be relevant links): \n",
      "['/', '/models', '/datasets', '/spaces', '/docs', '/enterprise', '/pricing', '/login', '/join', '/spaces', '/models', '/tencent/SRPO', '/Qwen/Qwen3-Next-80B-A3B-Instruct', '/baidu/ERNIE-4.5-21B-A3B-Thinking', '/Qwen/Qwen3-Next-80B-A3B-Thinking', '/google/vaultgemma-1b', '/models', '/spaces/enzostvs/deepsite', '/spaces/zerogpu-aoti/wan2-2-fp8da-aoti-faster', '/spaces/multimodalart/wan-2-2-first-last-frame', '/spaces/IndexTeam/IndexTTS-2-Demo', '/spaces/tencent/HunyuanImage-2.1', '/spaces', '/datasets/HuggingFaceFW/finepdfs', '/datasets/HuggingFaceM4/FineVision', '/datasets/LucasFang/FLUX-Reason-6M', '/datasets/fka/awesome-chatgpt-prompts', '/datasets/InternRobotics/OmniWorld', '/datasets', '/join', '/pricing#endpoints', '/pricing#spaces', '/pricing', '/enterprise', '/enterprise', '/enterprise', '/enterprise', '/enterprise', '/enterprise', '/enterprise', '/allenai', '/facebook', '/amazon', '/google', '/Intel', '/microsoft', '/grammarly', '/Writer', '/docs/transformers', '/docs/diffusers', '/docs/safetensors', '/docs/huggingface_hub', '/docs/tokenizers', '/docs/trl', '/docs/transformers.js', '/docs/smolagents', '/docs/peft', '/docs/datasets', '/docs/text-generation-inference', '/docs/accelerate', '/models', '/datasets', '/spaces', '/changelog', 'https://endpoints.huggingface.co', '/chat', '/huggingface', '/brand', '/terms-of-service', '/privacy', 'https://apply.workable.com/huggingface/', 'mailto:press@huggingface.co', '/learn', '/docs', '/blog', 'https://discuss.huggingface.co', 'https://status.huggingface.co/', 'https://github.com/huggingface', 'https://twitter.com/huggingface', 'https://www.linkedin.com/company/huggingface/', '/join/discord']\n"
     ]
    }
   ],
   "source": [
    "print(get_links_user_prompt(Website(\"https://huggingface.co\")))"
   ]
  }
 ],
 "metadata": {
  "kernelspec": {
   "display_name": "venv",
   "language": "python",
   "name": "python3"
  },
  "language_info": {
   "codemirror_mode": {
    "name": "ipython",
    "version": 3
   },
   "file_extension": ".py",
   "mimetype": "text/x-python",
   "name": "python",
   "nbconvert_exporter": "python",
   "pygments_lexer": "ipython3",
   "version": "3.12.5"
  }
 },
 "nbformat": 4,
 "nbformat_minor": 5
}
