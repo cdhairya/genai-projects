{
 "cells": [
  {
   "cell_type": "markdown",
   "id": "8e6f65ee",
   "metadata": {},
   "source": [
    "## Builds a brochure for any given website with important highlights of the company\n"
   ]
  },
  {
   "cell_type": "code",
   "execution_count": 151,
   "id": "cf20777e",
   "metadata": {},
   "outputs": [],
   "source": [
    "import requests\n",
    "from bs4 import BeautifulSoup\n",
    "import ollama\n",
    "import json\n",
    "from IPython.display import Markdown\n",
    "\n",
    "MODEL = 'llama3.2'"
   ]
  },
  {
   "cell_type": "code",
   "execution_count": 2,
   "id": "26cdd5de",
   "metadata": {},
   "outputs": [],
   "source": [
    "class Website:\n",
    "    def __init__(self, url):\n",
    "        self.url = url\n",
    "        response = requests.get(url)\n",
    "        self.body = response.content\n",
    "        soup = BeautifulSoup(self.body, 'html.parser')\n",
    "        self.title = soup.title.string if soup.title else \"No title found\"\n",
    "        if soup.body:\n",
    "            for irrelevant in soup.body(['script', 'style', 'img', 'input']):\n",
    "                irrelevant.decompose()\n",
    "            self.text = soup.body.getText(separator=\"\\n\", strip=True)\n",
    "        else:\n",
    "            self.text = \"\"\n",
    "        links = [link.get('href') for link in soup.find_all('a')]\n",
    "        self.links = [link for link in links if link]\n",
    "\n",
    "    def get_contents(self):\n",
    "        return f\"Website Title: {self.title}\\nWebpage Contents:\\n{self.text}\\n\\n\"\n"
   ]
  },
  {
   "cell_type": "code",
   "execution_count": 3,
   "id": "c28bf792",
   "metadata": {},
   "outputs": [],
   "source": [
    "link_system_prompt = \"You are provided with a list of links found on a webpage.\" \\\n",
    "\"You are able to decide which of the links will be most relevant to include in a briefer about the company,\" \\\n",
    "\"such as links to an About page, or a Company page, or Careers/jobs pages.\\nYou should respond in JSON as in this example:\"\n",
    "\n",
    "link_system_prompt += \"\"\"\n",
    "{\n",
    "    \"links\": [\n",
    "        {\"type\": \"about page\", \"url\": \"https://company-url/about\"},\n",
    "        {\"type\": \"careers page\", \"url\": \"https://company-full-url/jobs\"},\n",
    "    ]\n",
    "}\n",
    "\"\"\"\n"
   ]
  },
  {
   "cell_type": "code",
   "execution_count": 23,
   "id": "a106d2ac",
   "metadata": {},
   "outputs": [],
   "source": [
    "def get_links_user_prompt(website):\n",
    "    user_prompt = f\"Here is the list of links on the website {website.url} - please decide which of these are relevant web links for a company briefer, strictly respond only in JSON format with full https URLs.\\\n",
    "    Do not include Terms or privacy, service or email links.\"\n",
    "\n",
    "    user_prompt += f\"\\nLinks (some might be relevant links): \\n{website.links}\"\n",
    "    return user_prompt"
   ]
  },
  {
   "cell_type": "code",
   "execution_count": 24,
   "id": "e81581a3",
   "metadata": {},
   "outputs": [
    {
     "name": "stdout",
     "output_type": "stream",
     "text": [
      "Here is the list of links on the website https://huggingface.co - please decide which of these are relevant web links for a company briefer, strictly respond only in JSON format with full https URLs.    Do not include Terms or privacy, service or email links.\n",
      "Links (some might be relevant links): \n",
      "['/', '/models', '/datasets', '/spaces', '/docs', '/enterprise', '/pricing', '/login', '/join', '/spaces', '/models', '/tencent/SRPO', '/openbmb/VoxCPM-0.5B', '/Alibaba-NLP/Tongyi-DeepResearch-30B-A3B', '/google/vaultgemma-1b', '/Qwen/Qwen3-Next-80B-A3B-Instruct', '/models', '/spaces/enzostvs/deepsite', '/spaces/zerogpu-aoti/wan2-2-fp8da-aoti-faster', '/spaces/IndexTeam/IndexTTS-2-Demo', '/spaces/multimodalart/wan-2-2-first-last-frame', '/spaces/abdul9999/NoWatermark', '/spaces', '/datasets/HuggingFaceFW/finepdfs', '/datasets/LucasFang/FLUX-Reason-6M', '/datasets/fka/awesome-chatgpt-prompts', '/datasets/InternRobotics/OmniWorld', '/datasets/HuggingFaceM4/FineVision', '/datasets', '/join', '/pricing#endpoints', '/pricing#spaces', '/pricing', '/enterprise', '/enterprise', '/enterprise', '/enterprise', '/enterprise', '/enterprise', '/enterprise', '/allenai', '/facebook', '/amazon', '/google', '/Intel', '/microsoft', '/grammarly', '/Writer', '/docs/transformers', '/docs/diffusers', '/docs/safetensors', '/docs/huggingface_hub', '/docs/tokenizers', '/docs/trl', '/docs/transformers.js', '/docs/smolagents', '/docs/peft', '/docs/datasets', '/docs/text-generation-inference', '/docs/accelerate', '/models', '/datasets', '/spaces', '/changelog', 'https://endpoints.huggingface.co', '/chat', '/huggingface', '/brand', '/terms-of-service', '/privacy', 'https://apply.workable.com/huggingface/', 'mailto:press@huggingface.co', '/learn', '/docs', '/blog', 'https://discuss.huggingface.co', 'https://status.huggingface.co/', 'https://github.com/huggingface', 'https://twitter.com/huggingface', 'https://www.linkedin.com/company/huggingface/', '/join/discord']\n"
     ]
    }
   ],
   "source": [
    "print(get_links_user_prompt(Website(\"https://huggingface.co\")))"
   ]
  },
  {
   "cell_type": "code",
   "execution_count": 90,
   "id": "35a6d550",
   "metadata": {},
   "outputs": [],
   "source": [
    "def get_relevant_links (url):\n",
    "    website = Website(url)\n",
    "    response = ollama.chat(MODEL, messages=[\n",
    "        {'role': 'system', 'content': link_system_prompt},\n",
    "        {'role': 'user', 'content': get_links_user_prompt(website)}\n",
    "    ])\n",
    "    return response.message['content']"
   ]
  },
  {
   "cell_type": "code",
   "execution_count": 98,
   "id": "94dd87b4",
   "metadata": {},
   "outputs": [],
   "source": [
    "response = get_relevant_links(\"https://www.langchain.com\")"
   ]
  },
  {
   "cell_type": "code",
   "execution_count": 99,
   "id": "0d7616ba",
   "metadata": {},
   "outputs": [
    {
     "name": "stdout",
     "output_type": "stream",
     "text": [
      "{\n",
      "    \"links\": [\n",
      "        {\"type\": \"about page\", \"url\": \"https://www.langchain.com/about\"},\n",
      "        {\"type\": \"careers page\", \"url\": \"https://www.langchain.com/careers\"},\n",
      "        {\"type\": \"pricing page\", \"url\": \"https://www.langchain.com/pricing\"}\n",
      "    ]\n",
      "}\n"
     ]
    }
   ],
   "source": [
    "print(response)"
   ]
  },
  {
   "cell_type": "code",
   "execution_count": 130,
   "id": "56f1af67",
   "metadata": {},
   "outputs": [],
   "source": [
    "# Now make another API call\n",
    "def get_all_details(url):\n",
    "    result = \"Landing page:\\n\"\n",
    "    result += Website(url).get_contents()\n",
    "    links = get_relevant_links(url)\n",
    "    links_json = json.loads(links)\n",
    "    # print(links)\n",
    "    for link in links_json['links']:\n",
    "        result += f\"\\n\\n{link[\"type\"]}\\n\"\n",
    "        result += Website(link[\"url\"]).get_contents()\n",
    "    return result"
   ]
  },
  {
   "cell_type": "code",
   "execution_count": null,
   "id": "cd56aa4b",
   "metadata": {},
   "outputs": [],
   "source": [
    "link_details = get_all_details(\"https://www.langchain.com\")"
   ]
  },
  {
   "cell_type": "code",
   "execution_count": 135,
   "id": "3abdcab4",
   "metadata": {},
   "outputs": [],
   "source": [
    "system_prompt_brochure = \"You are an assistant that analyses the contents of several different pages from a company website. \\\n",
    "and creates a short brochure about the company for prospective customers, investors and recruits. Respond in markdown format.\\\n",
    "Include details of company culture, customers and careers/jobs if you have the information\""
   ]
  },
  {
   "cell_type": "code",
   "execution_count": 136,
   "id": "9fcc8273",
   "metadata": {},
   "outputs": [],
   "source": [
    "def get_brochure_user_prompt(company_name, url):\n",
    "    user_prompt = f\"You are looking at a company called: {company_name}\"\n",
    "    user_prompt += f\"Here are the contents of the landing page and other relevant pages; use this information to build a short brochure of the company in markdown format.\\n\"\n",
    "    user_prompt += get_all_details(url)\n",
    "    user_prompt = user_prompt[:5000]\n",
    "    return user_prompt"
   ]
  },
  {
   "cell_type": "code",
   "execution_count": 139,
   "id": "fbeb3555",
   "metadata": {},
   "outputs": [
    {
     "data": {
      "text/plain": [
       "\"You are looking at a company called: LangChainHere are the contents of the landing page and other relevant pages; use this information to build a short brochure of the company in markdown format.\\nLanding page:\\nWebsite Title: LangChain\\nWebpage Contents:\\nProducts\\nFrameworks\\nLangGraph\\nLangChain\\nPlatforms\\nLangSmith\\nLangGraph Platform\\nResources\\nGuides\\nBlog\\nCustomer Stories\\nLangChain Academy\\nCommunity\\nEvents\\nChangelog\\nDocs\\nPython\\nLangGraph\\nLangSmith\\nLangChain\\nJavaScript\\nLangGraph\\nLangSmith\\nLangChain\\nCompany\\nAbout\\nCareers\\nPricing\\nGet a demo\\nSign up\\nProducts\\nFrameworks\\nLangGraph\\nLangChain\\nPlatforms\\nLangSmith\\nLangGraph Platform\\nResources\\nGuides\\nBlog\\nCustomer Stories\\nLangChain Academy\\nCommunity\\nEvents\\nChangelog\\nDocs\\nPython\\nLangGraph\\nLangSmith\\nLangChain\\nJavaScript\\nLangGraph\\nLangSmith\\nLangChain\\nCompany\\nAbout\\nCareers\\nPricing\\nGet a demo\\nSign up\\nThe platform for\\nreliable agents.\\nTools for every step of the agent development lifecycle -- built to unlock powerful AI\\xa0in production.\\nRequest a demo\\nSee the docs\\nLangChain products power top engineering teams, from\\nstartups\\nto\\nglobal enterprises\\nAccelerate agent development.\\nBuild faster with templates & a visual agent IDE. Reuse, configure, and combine agents to go further with less code.\\nShip reliable agents.\\nDesign agents that can handle sophisticated tasks with control. Add human-in-the-loop to steer and approve agent actions.\\nGain visibility & improve quality.\\nSee what’s happening - so you can quickly trace to root cause and debug issues. Evaluate your agent performance to improve over time.\\nThe Agent Stack\\nORCHESTRATION:\\nBuild agents with LangGraph\\nControllable agent orchestration with built-in persistence to handle conversational history, memory, and agent-to-agent collaboration.\\nINTEGRATIONS:\\nIntegrate components with LangChain\\nIntegrate with the latest models, databases, and tools with no engineering overhead.\\nEVALS\\xa0&\\xa0OBSERVABILITY:\\nGain visibility with LangSmith\\nDebug poor-performing LLM app runs. Evaluate and observe agent performance at scale.\\nDEPLOYMENT:\\nDeploy &\\xa0manage with LangGraph Platform\\nDeploy and scale enterprise-grade agents with long-running workflows. Discover, reuse, and share agents across teams — and iterate faster with LangGraph Studio.\\nCopilots\\nBuild native co-pilots into your application to unlock new end user experiences for domain-specific tasks.\\nEnterprise GPT\\nGive all employees access\\u2028to information and tools\\u2028in a compliant manner so they\\u2028can perform their best.\\nCustomer Support\\nImprove the speed & efficiency\\u2028of support teams that handle customer requests.\\nResearch\\nSynthesize data, summarize sources & uncover insights faster than ever for knowledge work.\\nCode generation\\nAccelerate software development by automating code writing, refactoring, and documentation for your team.\\nAI Search\\nOffer a concierge experience to guide users to products or information in a personalized way.\\nLangChain products are designed to be used independently or stack for multiplicative benefit.\\nLangChain\\nLangGraph\\nFrameworks\\nLangSmith\\nLangGraph Platform\\nPlatforms\\nFrameworks\\nLangChain\\nLangGraph\\nPlatforms\\nLangSmith\\nLangGraph \\u2028Platform\\nSTACK 1:\\xa0LangGraph +\\xa0LangChain +\\xa0LangSmith +\\xa0LangGraph\\xa0Platform\\nA full product suite for reliable agents and LLM apps\\nLangChain's products work seamlessly together to provide an integrated solution for every step of the application development journey. When you use all LangChain products, you'll build better, get to production quicker, and grow visibility -- all with less set up and friction.\\nLangChain provides the smoothest path to high quality agents.\\nOrchestration:\\nIntegrations:\\nEvals + Observability:\\nDeployment:\\nSTACK 2: No framework +\\xa0LangSmith\\nTrace\\xa0and evaluate any LLM app\\nLangSmith is framework-agnostic. Trace using the TypeScript or Python SDK\\xa0to gain visibility into your agent interactions -- whether you use LangChain's frameworks or not.\\nOrchestration:\\nYour choice\\nEvals + Observability:\\nSTACK 3:\\xa0Any agent framework +\\xa0LangGraph Platform\\nBuild agents any way you want, then deploy and scale with ease\\nLangGraph Platform works with\\nany\\nagent framework, enabling stateful UXs like human-in-the-loop and streaming-native deployments.\\nOrchestration:\\nYour choice\\nDeployment:\\nGet inspired by companies who have done it.\\nTeams building with LangChain products are driving operational efficiency, increasing discovery & personalization, and delivering premium products that generate revenue.\\nDiscover Use Cases\\nFinancial Services\\nKlarna's AI assistant has reduced average customer query resolution time by 80%, powered by LangSmith and LangGraph\\nTransportation\\nThis global logistics provider is saving 600 hours a day using an automated order system built on LangGraph and LangSmith\\nSecurity\\nAs a leading cybersecurity firm with 40k+ customers, Trellix cut log parsing from days to minutes using LangGraph and LangSmith.\\nThe biggest developer community in GenAI\\nLearn alongside the 1M+ practitioners using our frameworks to push the industry forward.\\n#1\\nDownload\""
      ]
     },
     "execution_count": 139,
     "metadata": {},
     "output_type": "execute_result"
    }
   ],
   "source": [
    "get_brochure_user_prompt(\"LangChain\", \"https://www.langchain.com\")"
   ]
  },
  {
   "cell_type": "code",
   "execution_count": 153,
   "id": "268197b5",
   "metadata": {},
   "outputs": [],
   "source": [
    "def create_brochure(company_name, url):\n",
    "    response = ollama.chat(MODEL,messages=[\n",
    "        {'role': 'system', 'content': system_prompt_brochure},\n",
    "        {'role': 'user', 'content': get_brochure_user_prompt(company_name, url)}\n",
    "    ])\n",
    "    result = response.message['content']\n",
    "    display(Markdown(result))"
   ]
  },
  {
   "cell_type": "code",
   "execution_count": 154,
   "id": "12abe128",
   "metadata": {},
   "outputs": [
    {
     "data": {
      "text/markdown": [
       "**LangChain Brochure**\n",
       "=====================\n",
       "\n",
       "**Unlock the Power of Reliable Agents with LangChain**\n",
       "\n",
       "At LangChain, we're revolutionizing the way applications are built and deployed. Our suite of products is designed to help you unlock powerful AI in production, accelerate agent development, and build faster with templates and a visual agent IDE.\n",
       "\n",
       "**What is LangChain?**\n",
       "------------------------\n",
       "\n",
       "LangChain is a comprehensive platform for building reliable agents that can handle sophisticated tasks with control. Our platform consists of:\n",
       "\n",
       "* **LangGraph**: A controllable agent orchestration framework with built-in persistence to handle conversational history, memory, and agent-to-agent collaboration.\n",
       "* **LangSmith**: An evaluation and observability tool that helps you debug poor-performing LLM app runs and evaluate agent performance at scale.\n",
       "* **LangGraph Platform**: A deployment and management platform for enterprise-grade agents with long-running workflows.\n",
       "\n",
       "**Our Products**\n",
       "-----------------\n",
       "\n",
       "### LangChain Academy\n",
       "\n",
       "* Learn alongside the 1M+ practitioners in our developer community\n",
       "* Stay up-to-date with the latest industry trends and best practices\n",
       "\n",
       "### Copilots\n",
       "\n",
       "* Unlock new end-user experiences for domain-specific tasks with native co-pilots\n",
       "* Improve the speed and efficiency of support teams that handle customer requests\n",
       "\n",
       "### Enterprise GPT\n",
       "\n",
       "* Give all employees access to information and tools in a compliant manner\n",
       "* Enable employees to perform their best with LangChain's AI-powered solutions\n",
       "\n",
       "**Customer Stories**\n",
       "-------------------\n",
       "\n",
       "* **Klarna**: Reduced average customer query resolution time by 80% using LangSmith and LangGraph\n",
       "* **Global Logistics Provider**: Saved 600 hours a day using an automated order system built on LangGraph and LangSmith\n",
       "* **Trellix**: Cut log parsing from days to minutes using LangGraph and LangSmith\n",
       "\n",
       "**Join the LangChain Community**\n",
       "------------------------------\n",
       "\n",
       "Discover how our products are driving operational efficiency, increasing discovery & personalization, and delivering premium products that generate revenue.\n",
       "\n",
       "**Get Started with LangChain**\n",
       "---------------------------\n",
       "\n",
       "* Request a demo to see our products in action\n",
       "* Sign up for our newsletter to stay up-to-date with the latest news and updates\n",
       "\n",
       "**Stay Ahead of the Competition**\n",
       "---------------------------------\n",
       "\n",
       "Don't miss out on the opportunity to unlock powerful AI in production with LangChain. Join our community today and start building faster, getting to production quicker, and growing visibility – all with less set up and friction.\n",
       "\n",
       "Contact Us\n",
       "----------\n",
       "\n",
       "Email: [info@langchain.com](mailto:info@langchain.com)\n",
       "Phone: +1 555 123 4567\n",
       "\n",
       "Website: langchain.com"
      ],
      "text/plain": [
       "<IPython.core.display.Markdown object>"
      ]
     },
     "metadata": {},
     "output_type": "display_data"
    }
   ],
   "source": [
    "brochure = create_brochure(\"LangChain\", \"https://www.langchain.com\")"
   ]
  }
 ],
 "metadata": {
  "kernelspec": {
   "display_name": "venv",
   "language": "python",
   "name": "python3"
  },
  "language_info": {
   "codemirror_mode": {
    "name": "ipython",
    "version": 3
   },
   "file_extension": ".py",
   "mimetype": "text/x-python",
   "name": "python",
   "nbconvert_exporter": "python",
   "pygments_lexer": "ipython3",
   "version": "3.12.5"
  }
 },
 "nbformat": 4,
 "nbformat_minor": 5
}
