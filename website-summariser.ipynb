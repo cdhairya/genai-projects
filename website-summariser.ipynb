{
 "cells": [
  {
   "cell_type": "markdown",
   "metadata": {},
   "source": [
    "## Website Summariser using Ollama "
   ]
  },
  {
   "cell_type": "code",
   "execution_count": 55,
   "metadata": {},
   "outputs": [],
   "source": [
    "import requests"
   ]
  },
  {
   "cell_type": "code",
   "execution_count": 41,
   "metadata": {},
   "outputs": [],
   "source": [
    "OLLAMA_API = 'http://localhost:11434/api/chat'\n",
    "MODEL = 'llama3.2'\n",
    "HEADERS = {\"Content-Type\": \"application/json\"}\n"
   ]
  },
  {
   "cell_type": "code",
   "execution_count": 42,
   "metadata": {},
   "outputs": [],
   "source": [
    "messages = [\n",
    "    {'role': 'user', 'content': 'Why is the sky blue in colour?'}\n",
    "]"
   ]
  },
  {
   "cell_type": "code",
   "execution_count": 43,
   "metadata": {},
   "outputs": [],
   "source": [
    "payloadBody = {\n",
    "    \"model\": MODEL,\n",
    "    \"messages\": messages,\n",
    "    \"stream\": False\n",
    "}"
   ]
  },
  {
   "cell_type": "code",
   "execution_count": 44,
   "metadata": {},
   "outputs": [],
   "source": [
    "response = requests.post(OLLAMA_API, json=payloadBody, headers=HEADERS)"
   ]
  },
  {
   "cell_type": "code",
   "execution_count": 53,
   "metadata": {},
   "outputs": [
    {
     "name": "stdout",
     "output_type": "stream",
     "text": [
      "The sky appears blue because of a phenomenon called Rayleigh scattering, named after the British physicist Lord Rayleigh, who first described it in the late 19th century.\n",
      "\n",
      "Here's what happens:\n",
      "\n",
      "1. **Sunlight enters Earth's atmosphere**: When sunlight enters our atmosphere, it encounters tiny molecules of gases such as nitrogen (N2) and oxygen (O2).\n",
      "2. **Scattering occurs**: These gas molecules scatter the light in all directions, but they scatter shorter (blue) wavelengths more than longer (red) wavelengths.\n",
      "3. **Blue light is scattered**: The blue light is scattered in all directions by the gas molecules, reaching our eyes from all parts of the sky.\n",
      "4. **Red light continues straight**: Meanwhile, the longer wavelength red light is not scattered as much and continues to travel in a more direct path, reaching our eyes from the direction of the sun.\n",
      "\n",
      "This scattering effect gives the sky its blue color during the daytime, especially when the sun is overhead. The amount of scattering also depends on the position of the observer, with more scattering occurring at shorter angles (i.e., when the sun is lower in the sky).\n",
      "\n",
      "**Additional factors that influence sky color:**\n",
      "\n",
      "* **Dust and water vapor**: Tiny particles in the atmosphere can scatter light, adding to the blue color. This effect is more pronounced during dust storms or near large bodies of water.\n",
      "* **Atmospheric conditions**: The scattering of light can be affected by atmospheric conditions such as pollution, humidity, and cloud cover.\n",
      "\n",
      "In summary, the sky appears blue because of the scattering of sunlight by tiny gas molecules in our atmosphere, with shorter wavelengths (like blue) being scattered more than longer wavelengths (like red).\n"
     ]
    }
   ],
   "source": [
    "print(response.json()['message']['content'])\n"
   ]
  },
  {
   "cell_type": "code",
   "execution_count": 56,
   "metadata": {},
   "outputs": [],
   "source": [
    "import ollama\n",
    "from bs4 import BeautifulSoup"
   ]
  },
  {
   "cell_type": "code",
   "execution_count": 57,
   "metadata": {},
   "outputs": [],
   "source": [
    "headers = {\n",
    " \"User-Agent\": \"Mozilla/5.0 (Windows NT 10.0; Win64; x64) AppleWebKit/537.36 (KHTML, like Gecko) Chrome/117.0.0.0 Safari/537.36\"\n",
    "}\n",
    "\n",
    "class Website:\n",
    "    def __init__(self, url):\n",
    "        self.url = url\n",
    "\n",
    "        websiteResponse = requests.get(url, headers=headers)\n",
    "        soup = BeautifulSoup(websiteResponse.content, 'html.parser')\n",
    "        self.title = soup.title.string if soup.title else \"No title found\"\n",
    "        for irrelevant in soup.body([\"script\", \"img\", \"style\", \"input\"]):\n",
    "            irrelevant.decompose()\n",
    "        self.text = soup.body.getText(separator=\"\\n\", strip=True)\n",
    "        "
   ]
  },
  {
   "cell_type": "code",
   "execution_count": 58,
   "metadata": {},
   "outputs": [],
   "source": [
    "web1 = Website(\"https://edwarddonner.com\")"
   ]
  },
  {
   "cell_type": "code",
   "execution_count": 61,
   "metadata": {},
   "outputs": [],
   "source": [
    "sys_prompt=\"You are an assistant that analyses the contents of a website \\\n",
    "    and provides a short summary, ignoring text that might be navigation related.\\\n",
    "        Respond in markdown format.\""
   ]
  },
  {
   "cell_type": "code",
   "execution_count": 66,
   "metadata": {},
   "outputs": [],
   "source": [
    "def user_prompt_for(website):\n",
    "    user_prompt = f\"You are given a website with title {website.title}.Please provide a short summary of this website in markdown. \\\n",
    "        If it includes news and announcements or any other notices then summarize them as well. The contents of this website are as follows:\\n\"\n",
    "    user_prompt += website.text\n",
    "    return user_prompt"
   ]
  },
  {
   "cell_type": "code",
   "execution_count": 68,
   "metadata": {},
   "outputs": [],
   "source": [
    "def messages_for(website):\n",
    "    return [\n",
    "        {'role': 'system', 'content': sys_prompt},\n",
    "        {'role': 'user', 'content': user_prompt_for(website)}\n",
    "    ]"
   ]
  },
  {
   "cell_type": "code",
   "execution_count": 70,
   "metadata": {},
   "outputs": [],
   "source": [
    "def summarise(url):\n",
    "    website = Website(url)\n",
    "    response = ollama.chat(MODEL, messages=messages_for(website))\n",
    "    return response"
   ]
  },
  {
   "cell_type": "code",
   "execution_count": 77,
   "metadata": {},
   "outputs": [],
   "source": [
    "modelResponse = summarise(\"https://edwarddonner.com\")"
   ]
  },
  {
   "cell_type": "code",
   "execution_count": 82,
   "metadata": {},
   "outputs": [
    {
     "data": {
      "text/plain": [
       "'# Summary of Website Home - Edward Donner\\n\\n## Overview\\nThe website is a personal blog belonging to Ed, the co-founder and CTO of Nebula.io. The site discusses Ed\\'s interests in writing code, LLMs (Large Language Models), and his work at Nebula.io.\\n\\n## Recent News and Announcements\\n\\n* **May 28, 2025**: \"Connecting my courses – become an LLM expert and leader\" - A new course on LLM engineering is being offered.\\n* **May 18, 2025**: \"2025 AI Executive Briefing\" - An upcoming briefing on the latest AI trends.\\n* **April 21, 2025**: \"The Complete Agentic AI Engineering Course\" - A comprehensive course on agentic AI engineering.\\n* **January 23, 2025**: \"LLM Workshop – Hands-on with Agents – resources\" - Resources for a workshop on LLMs.\\n\\n## About the Author\\nEd is the co-founder and CTO of Nebula.io. He has previously founded an AI startup that was acquired in 2021.'"
      ]
     },
     "execution_count": 82,
     "metadata": {},
     "output_type": "execute_result"
    }
   ],
   "source": [
    "modelResponse.message['content']"
   ]
  },
  {
   "cell_type": "code",
   "execution_count": 74,
   "metadata": {},
   "outputs": [],
   "source": [
    "from IPython.display import display, Markdown"
   ]
  },
  {
   "cell_type": "code",
   "execution_count": 83,
   "metadata": {},
   "outputs": [],
   "source": [
    "def display_summary(url):\n",
    "    summary = summarise(url)\n",
    "    display(Markdown(summary.message[\"content\"]))"
   ]
  },
  {
   "cell_type": "code",
   "execution_count": 84,
   "metadata": {},
   "outputs": [
    {
     "data": {
      "text/markdown": [
       "# Website Summary\n",
       "## Home Page\n",
       "The website is hosted on a personal blog-style platform, with the owner Ed introducing himself as the co-founder and CTO of Nebula.io.\n",
       "\n",
       "### Key Points\n",
       "- Ed is an enthusiast for writing code and experimenting with Large Language Models (LLMs).\n",
       "- He enjoys DJing, amateur electronic music production, and participating in Hacker News.\n",
       "- Ed is the co-founder and CTO of Nebula.io, a company that applies AI to help people discover their potential.\n",
       "- The company has patented its matching model and received press coverage.\n",
       "\n",
       "### Announcements and News\n",
       "- Upcoming courses:\n",
       "  * \"Connecting my courses – become an LLM expert and leader\" (May 28, 2025)\n",
       "  * \"The Complete Agentic AI Engineering Course\" (January 23, 2025)\n",
       "  * \"LLM Workshop – Hands-on with Agents – resources\"\n",
       "  - Recent events:\n",
       "    * \"2025 AI Executive Briefing\" (April 21, 2025)"
      ],
      "text/plain": [
       "<IPython.core.display.Markdown object>"
      ]
     },
     "metadata": {},
     "output_type": "display_data"
    }
   ],
   "source": [
    "display_summary(\"https://edwarddonner.com\")"
   ]
  }
 ],
 "metadata": {
  "kernelspec": {
   "display_name": "venv",
   "language": "python",
   "name": "python3"
  },
  "language_info": {
   "codemirror_mode": {
    "name": "ipython",
    "version": 3
   },
   "file_extension": ".py",
   "mimetype": "text/x-python",
   "name": "python",
   "nbconvert_exporter": "python",
   "pygments_lexer": "ipython3",
   "version": "3.12.5"
  }
 },
 "nbformat": 4,
 "nbformat_minor": 2
}
